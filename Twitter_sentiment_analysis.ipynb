{
  "cells": [
    {
      "cell_type": "code",
      "execution_count": null,
      "metadata": {
        "colab": {
          "base_uri": "https://localhost:8080/"
        },
        "id": "BZP4UwNRnCvF",
        "outputId": "e4c50364-9c51-488e-af4d-2ee689c82e1d"
      },
      "outputs": [
        {
          "name": "stdout",
          "output_type": "stream",
          "text": [
            "Requirement already satisfied: tweepy in /usr/local/lib/python3.10/dist-packages (4.14.0)\n",
            "Requirement already satisfied: oauthlib<4,>=3.2.0 in /usr/local/lib/python3.10/dist-packages (from tweepy) (3.2.2)\n",
            "Requirement already satisfied: requests<3,>=2.27.0 in /usr/local/lib/python3.10/dist-packages (from tweepy) (2.31.0)\n",
            "Requirement already satisfied: requests-oauthlib<2,>=1.2.0 in /usr/local/lib/python3.10/dist-packages (from tweepy) (1.3.1)\n",
            "Requirement already satisfied: charset-normalizer<4,>=2 in /usr/local/lib/python3.10/dist-packages (from requests<3,>=2.27.0->tweepy) (3.3.2)\n",
            "Requirement already satisfied: idna<4,>=2.5 in /usr/local/lib/python3.10/dist-packages (from requests<3,>=2.27.0->tweepy) (3.7)\n",
            "Requirement already satisfied: urllib3<3,>=1.21.1 in /usr/local/lib/python3.10/dist-packages (from requests<3,>=2.27.0->tweepy) (2.0.7)\n",
            "Requirement already satisfied: certifi>=2017.4.17 in /usr/local/lib/python3.10/dist-packages (from requests<3,>=2.27.0->tweepy) (2024.2.2)\n",
            "Requirement already satisfied: textblob in /usr/local/lib/python3.10/dist-packages (0.17.1)\n",
            "Requirement already satisfied: nltk>=3.1 in /usr/local/lib/python3.10/dist-packages (from textblob) (3.8.1)\n",
            "Requirement already satisfied: click in /usr/local/lib/python3.10/dist-packages (from nltk>=3.1->textblob) (8.1.7)\n",
            "Requirement already satisfied: joblib in /usr/local/lib/python3.10/dist-packages (from nltk>=3.1->textblob) (1.4.0)\n",
            "Requirement already satisfied: regex>=2021.8.3 in /usr/local/lib/python3.10/dist-packages (from nltk>=3.1->textblob) (2023.12.25)\n",
            "Requirement already satisfied: tqdm in /usr/local/lib/python3.10/dist-packages (from nltk>=3.1->textblob) (4.66.2)\n",
            "Requirement already satisfied: matplotlib in /usr/local/lib/python3.10/dist-packages (3.7.1)\n",
            "Requirement already satisfied: contourpy>=1.0.1 in /usr/local/lib/python3.10/dist-packages (from matplotlib) (1.2.1)\n",
            "Requirement already satisfied: cycler>=0.10 in /usr/local/lib/python3.10/dist-packages (from matplotlib) (0.12.1)\n",
            "Requirement already satisfied: fonttools>=4.22.0 in /usr/local/lib/python3.10/dist-packages (from matplotlib) (4.51.0)\n",
            "Requirement already satisfied: kiwisolver>=1.0.1 in /usr/local/lib/python3.10/dist-packages (from matplotlib) (1.4.5)\n",
            "Requirement already satisfied: numpy>=1.20 in /usr/local/lib/python3.10/dist-packages (from matplotlib) (1.25.2)\n",
            "Requirement already satisfied: packaging>=20.0 in /usr/local/lib/python3.10/dist-packages (from matplotlib) (24.0)\n",
            "Requirement already satisfied: pillow>=6.2.0 in /usr/local/lib/python3.10/dist-packages (from matplotlib) (9.4.0)\n",
            "Requirement already satisfied: pyparsing>=2.3.1 in /usr/local/lib/python3.10/dist-packages (from matplotlib) (3.1.2)\n",
            "Requirement already satisfied: python-dateutil>=2.7 in /usr/local/lib/python3.10/dist-packages (from matplotlib) (2.8.2)\n",
            "Requirement already satisfied: six>=1.5 in /usr/local/lib/python3.10/dist-packages (from python-dateutil>=2.7->matplotlib) (1.16.0)\n"
          ]
        }
      ],
      "source": [
        "!pip install tweepy\n",
        "!pip install textblob\n",
        "!pip install matplotlib\n"
      ]
    },
    {
      "cell_type": "code",
      "execution_count": null,
      "metadata": {
        "colab": {
          "base_uri": "https://localhost:8080/"
        },
        "id": "SUYzj9FKrWaR",
        "outputId": "ff074d7a-d2b6-4b59-ef18-b292402416c2"
      },
      "outputs": [
        {
          "name": "stdout",
          "output_type": "stream",
          "text": [
            "Requirement already satisfied: tweepy in /usr/local/lib/python3.10/dist-packages (4.14.0)\n",
            "Requirement already satisfied: oauthlib<4,>=3.2.0 in /usr/local/lib/python3.10/dist-packages (from tweepy) (3.2.2)\n",
            "Requirement already satisfied: requests<3,>=2.27.0 in /usr/local/lib/python3.10/dist-packages (from tweepy) (2.31.0)\n",
            "Requirement already satisfied: requests-oauthlib<2,>=1.2.0 in /usr/local/lib/python3.10/dist-packages (from tweepy) (1.3.1)\n",
            "Requirement already satisfied: charset-normalizer<4,>=2 in /usr/local/lib/python3.10/dist-packages (from requests<3,>=2.27.0->tweepy) (3.3.2)\n",
            "Requirement already satisfied: idna<4,>=2.5 in /usr/local/lib/python3.10/dist-packages (from requests<3,>=2.27.0->tweepy) (3.7)\n",
            "Requirement already satisfied: urllib3<3,>=1.21.1 in /usr/local/lib/python3.10/dist-packages (from requests<3,>=2.27.0->tweepy) (2.0.7)\n",
            "Requirement already satisfied: certifi>=2017.4.17 in /usr/local/lib/python3.10/dist-packages (from requests<3,>=2.27.0->tweepy) (2024.2.2)\n"
          ]
        }
      ],
      "source": [
        "!pip install --upgrade tweepy\n"
      ]
    },
    {
      "cell_type": "code",
      "execution_count": 3,
      "metadata": {
        "colab": {
          "base_uri": "https://localhost:8080/"
        },
        "id": "dNA_8warF3nW",
        "outputId": "583f1e22-a26f-463d-e182-61c0c31ae68a"
      },
      "outputs": [
        {
          "output_type": "stream",
          "name": "stdout",
          "text": [
            "Requirement already satisfied: nltk in /usr/local/lib/python3.10/dist-packages (3.8.1)\n",
            "Requirement already satisfied: click in /usr/local/lib/python3.10/dist-packages (from nltk) (8.1.7)\n",
            "Requirement already satisfied: joblib in /usr/local/lib/python3.10/dist-packages (from nltk) (1.4.0)\n",
            "Requirement already satisfied: regex>=2021.8.3 in /usr/local/lib/python3.10/dist-packages (from nltk) (2023.12.25)\n",
            "Requirement already satisfied: tqdm in /usr/local/lib/python3.10/dist-packages (from nltk) (4.66.2)\n"
          ]
        },
        {
          "output_type": "stream",
          "name": "stderr",
          "text": [
            "[nltk_data] Downloading package stopwords to /root/nltk_data...\n",
            "[nltk_data]   Unzipping corpora/stopwords.zip.\n"
          ]
        },
        {
          "output_type": "execute_result",
          "data": {
            "text/plain": [
              "True"
            ]
          },
          "metadata": {},
          "execution_count": 3
        }
      ],
      "source": [
        "!pip install nltk\n",
        "nltk.download('stopwords')"
      ]
    },
    {
      "cell_type": "code",
      "source": [
        "import pandas as pd\n",
        "import re\n",
        "from textblob import TextBlob\n",
        "import matplotlib.pyplot as plt\n",
        "from sklearn.model_selection import train_test_split\n",
        "from sklearn.feature_extraction.text import CountVectorizer\n",
        "from sklearn.pipeline import make_pipeline\n",
        "from sklearn.linear_model import LogisticRegression\n",
        "from sklearn.metrics import classification_report\n",
        "\n",
        "class SentimentAnalysis:\n",
        "\n",
        "    def __init__(self):\n",
        "        self.tweets = []\n",
        "        self.tweetText = []\n",
        "\n",
        "    def clean_tweet(self, tweet):\n",
        "        # Check if tweet is NaN\n",
        "        if pd.isnull(tweet):\n",
        "            return ''\n",
        "        # Remove special characters, hyperlinks, and usernames from the tweet\n",
        "        cleaned_tweet = re.sub(r'(@[A-Za-z0-9]+)|([^0-9A-Za-z \\t])|(\\w+:\\/\\/\\S+)', '', str(tweet))\n",
        "        return cleaned_tweet\n",
        "\n",
        "    def analyze_sentiment(self, tweet):\n",
        "        # Analyze the sentiment of the tweet using TextBlob\n",
        "        analysis = TextBlob(tweet)\n",
        "        if analysis.sentiment.polarity > 0:\n",
        "            return 'positive'\n",
        "        elif analysis.sentiment.polarity == 0:\n",
        "            return 'neutral'\n",
        "        else:\n",
        "            return 'negative'\n",
        "\n",
        "    def perform_sentiment_analysis(self, train_file_path, test_file_path):\n",
        "        # Read the training and testing CSV files into DataFrames\n",
        "        train_df = pd.read_csv(train_file_path)\n",
        "        test_df = pd.read_csv(test_file_path)\n",
        "\n",
        "        # Clean each tweet in both training and testing sets\n",
        "        train_df['cleaned_tweet'] = train_df['tweet'].apply(self.clean_tweet)\n",
        "        test_df['cleaned_tweet'] = test_df['tweet'].apply(self.clean_tweet)\n",
        "\n",
        "        # Drop rows with missing values in the training and testing sets\n",
        "        train_df.dropna(subset=['cleaned_tweet'], inplace=True)\n",
        "        test_df.dropna(subset=['cleaned_tweet'], inplace=True)\n",
        "\n",
        "        # Split the data into features (X) and target (y) for both training and testing sets\n",
        "        X_train = train_df['cleaned_tweet']\n",
        "        y_train = train_df['sentiment']\n",
        "        X_test = test_df['cleaned_tweet']\n",
        "        y_test = test_df['sentiment']\n",
        "\n",
        "        # Create a pipeline with CountVectorizer and a classifier (e.g., Logistic Regression)\n",
        "        model = make_pipeline(CountVectorizer(), LogisticRegression())\n",
        "\n",
        "        # Train the model on the training data\n",
        "        model.fit(X_train, y_train)\n",
        "\n",
        "        # Evaluate the model on the testing data\n",
        "        y_pred = model.predict(X_test)\n",
        "\n",
        "        # Print the classification report\n",
        "        print(\"Classification Report:\")\n",
        "        print(classification_report(y_test, y_pred))\n",
        "\n",
        "        # Plot a pie chart to visualize the distribution of sentiments in the testing set\n",
        "        sentiment_counts = y_test.value_counts()\n",
        "        sentiment_counts.plot(kind='pie', autopct='%1.1f%%', colors=['lightblue', 'lightgreen', 'lightcoral'])\n",
        "        plt.title('Sentiment Distribution in Testing Set')\n",
        "        plt.axis('equal')\n",
        "        plt.show()\n",
        "\n",
        "\n",
        "if __name__ == \"__main__\":\n",
        "    sa = SentimentAnalysis()\n",
        "    train_file_path = '/content/twitter_training.csv'\n",
        "    test_file_path = '/content/twitter_validation.csv'\n",
        "    sa.perform_sentiment_analysis(train_file_path, test_file_path)\n"
      ],
      "metadata": {
        "id": "qg8c8KiscvjQ",
        "outputId": "c84a9a5b-73ae-4722-8938-845f82e84843",
        "colab": {
          "base_uri": "https://localhost:8080/",
          "height": 788
        }
      },
      "execution_count": 3,
      "outputs": [
        {
          "output_type": "stream",
          "name": "stderr",
          "text": [
            "/usr/local/lib/python3.10/dist-packages/sklearn/linear_model/_logistic.py:458: ConvergenceWarning: lbfgs failed to converge (status=1):\n",
            "STOP: TOTAL NO. of ITERATIONS REACHED LIMIT.\n",
            "\n",
            "Increase the number of iterations (max_iter) or scale the data as shown in:\n",
            "    https://scikit-learn.org/stable/modules/preprocessing.html\n",
            "Please also refer to the documentation for alternative solver options:\n",
            "    https://scikit-learn.org/stable/modules/linear_model.html#logistic-regression\n",
            "  n_iter_i = _check_optimize_result(\n"
          ]
        },
        {
          "output_type": "stream",
          "name": "stdout",
          "text": [
            "Classification Report:\n",
            "              precision    recall  f1-score   support\n",
            "\n",
            "  Irrelevant       0.92      0.89      0.90       172\n",
            "    Negative       0.90      0.95      0.92       266\n",
            "     Neutral       0.97      0.89      0.93       284\n",
            "    Positive       0.88      0.92      0.90       277\n",
            "\n",
            "    accuracy                           0.91       999\n",
            "   macro avg       0.92      0.91      0.91       999\n",
            "weighted avg       0.92      0.91      0.92       999\n",
            "\n"
          ]
        },
        {
          "output_type": "display_data",
          "data": {
            "text/plain": [
              "<Figure size 640x480 with 1 Axes>"
            ],
            "image/png": "[encoded data removed]"
          },
          "metadata": {}
        }
      ]
    },
    {
      "cell_type": "code",
      "source": [],
      "metadata": {
        "id": "AzOoM7yGfUyu"
      },
      "execution_count": null,
      "outputs": []
    }
  ],
  "metadata": {
    "colab": {
      "provenance": []
    },
    "kernelspec": {
      "display_name": "Python 3",
      "name": "python3"
    },
    "language_info": {
      "name": "python"
    }
  },
  "nbformat": 4,
  "nbformat_minor": 0
}